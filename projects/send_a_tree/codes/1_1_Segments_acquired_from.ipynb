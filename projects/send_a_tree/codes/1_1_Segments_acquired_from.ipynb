{
 "cells": [
  {
   "cell_type": "code",
   "execution_count": 4,
   "id": "47f169a1",
   "metadata": {},
   "outputs": [],
   "source": [
    "import pandas as pd\n",
    "import numpy as np\n",
    "import matplotlib\n",
    "import seaborn as sns\n",
    "import matplotlib.pyplot as plt\n",
    "%matplotlib inline"
   ]
  },
  {
   "cell_type": "code",
   "execution_count": 5,
   "id": "7af5881c",
   "metadata": {},
   "outputs": [],
   "source": [
    "reg_path = \"all_registration.csv\"\n",
    "reg_header = [\"day\", \"date\", \"time\", \"user_id\", \"action\", \"born\", \"phone\", \"country\", \"acquired_from\"]\n",
    "registration = pd.read_csv(reg_path, delimiter=';', names = reg_header)"
   ]
  },
  {
   "cell_type": "code",
   "execution_count": 6,
   "id": "43badad7",
   "metadata": {},
   "outputs": [],
   "source": [
    "free_path = \"all_free_tree.csv\"\n",
    "free_tree = pd.read_csv(free_path, delimiter=';', names =[\"day\", \"date\", \"user_id\", \"action\"])"
   ]
  },
  {
   "cell_type": "code",
   "execution_count": 7,
   "id": "f4451a2a",
   "metadata": {},
   "outputs": [],
   "source": [
    "super_path = \"all_super_tree.csv\"\n",
    "super_tree = pd.read_csv(super_path, delimiter=';', names =[\"day\", \"date\", \"user_id\", \"action\"])"
   ]
  },
  {
   "cell_type": "code",
   "execution_count": 9,
   "id": "5e9476b9",
   "metadata": {},
   "outputs": [],
   "source": [
    "registration[\"date\"] = pd.to_datetime(registration[\"date\"])"
   ]
  },
  {
   "cell_type": "code",
   "execution_count": 10,
   "id": "d61df5d1",
   "metadata": {},
   "outputs": [],
   "source": [
    "reg_users = registration.groupby(\"acquired_from\")[[\"user_id\"]].nunique()"
   ]
  },
  {
   "cell_type": "code",
   "execution_count": 11,
   "id": "eb8ca01f",
   "metadata": {},
   "outputs": [],
   "source": [
    "reg_super = registration.merge(super_tree, how=\"inner\", left_on=\"user_id\", right_on=\"user_id\")"
   ]
  },
  {
   "cell_type": "code",
   "execution_count": 12,
   "id": "a045dbef",
   "metadata": {},
   "outputs": [],
   "source": [
    "super_sent_by_user = reg_super.groupby(\"user_id\").count()[[\"acquired_from\"]].rename(columns={\"acquired_from\": \"super_sent\"})"
   ]
  },
  {
   "cell_type": "code",
   "execution_count": 13,
   "id": "cb23faad",
   "metadata": {},
   "outputs": [
    {
     "data": {
      "text/html": [
       "<div>\n",
       "<style scoped>\n",
       "    .dataframe tbody tr th:only-of-type {\n",
       "        vertical-align: middle;\n",
       "    }\n",
       "\n",
       "    .dataframe tbody tr th {\n",
       "        vertical-align: top;\n",
       "    }\n",
       "\n",
       "    .dataframe thead th {\n",
       "        text-align: right;\n",
       "    }\n",
       "</style>\n",
       "<table border=\"1\" class=\"dataframe\">\n",
       "  <thead>\n",
       "    <tr style=\"text-align: right;\">\n",
       "      <th></th>\n",
       "      <th>user_id</th>\n",
       "      <th>super_sent</th>\n",
       "    </tr>\n",
       "  </thead>\n",
       "  <tbody>\n",
       "    <tr>\n",
       "      <th>0</th>\n",
       "      <td>1000007</td>\n",
       "      <td>1</td>\n",
       "    </tr>\n",
       "    <tr>\n",
       "      <th>1</th>\n",
       "      <td>1000013</td>\n",
       "      <td>1</td>\n",
       "    </tr>\n",
       "    <tr>\n",
       "      <th>2</th>\n",
       "      <td>1000019</td>\n",
       "      <td>1</td>\n",
       "    </tr>\n",
       "    <tr>\n",
       "      <th>3</th>\n",
       "      <td>1000030</td>\n",
       "      <td>1</td>\n",
       "    </tr>\n",
       "    <tr>\n",
       "      <th>4</th>\n",
       "      <td>1000032</td>\n",
       "      <td>1</td>\n",
       "    </tr>\n",
       "    <tr>\n",
       "      <th>...</th>\n",
       "      <td>...</td>\n",
       "      <td>...</td>\n",
       "    </tr>\n",
       "    <tr>\n",
       "      <th>34602</th>\n",
       "      <td>1284380</td>\n",
       "      <td>1</td>\n",
       "    </tr>\n",
       "    <tr>\n",
       "      <th>34603</th>\n",
       "      <td>1284402</td>\n",
       "      <td>1</td>\n",
       "    </tr>\n",
       "    <tr>\n",
       "      <th>34604</th>\n",
       "      <td>1284403</td>\n",
       "      <td>1</td>\n",
       "    </tr>\n",
       "    <tr>\n",
       "      <th>34605</th>\n",
       "      <td>1284407</td>\n",
       "      <td>1</td>\n",
       "    </tr>\n",
       "    <tr>\n",
       "      <th>34606</th>\n",
       "      <td>1284417</td>\n",
       "      <td>1</td>\n",
       "    </tr>\n",
       "  </tbody>\n",
       "</table>\n",
       "<p>34607 rows × 2 columns</p>\n",
       "</div>"
      ],
      "text/plain": [
       "       user_id  super_sent\n",
       "0      1000007           1\n",
       "1      1000013           1\n",
       "2      1000019           1\n",
       "3      1000030           1\n",
       "4      1000032           1\n",
       "...        ...         ...\n",
       "34602  1284380           1\n",
       "34603  1284402           1\n",
       "34604  1284403           1\n",
       "34605  1284407           1\n",
       "34606  1284417           1\n",
       "\n",
       "[34607 rows x 2 columns]"
      ]
     },
     "execution_count": 13,
     "metadata": {},
     "output_type": "execute_result"
    }
   ],
   "source": [
    "free_super_sent_users = super_sent_by_user[super_sent_by_user[\"super_sent\"] == 1].reset_index()\n",
    "free_super_sent_users"
   ]
  },
  {
   "cell_type": "code",
   "execution_count": 14,
   "id": "68526e3a",
   "metadata": {},
   "outputs": [
    {
     "data": {
      "text/html": [
       "<div>\n",
       "<style scoped>\n",
       "    .dataframe tbody tr th:only-of-type {\n",
       "        vertical-align: middle;\n",
       "    }\n",
       "\n",
       "    .dataframe tbody tr th {\n",
       "        vertical-align: top;\n",
       "    }\n",
       "\n",
       "    .dataframe thead th {\n",
       "        text-align: right;\n",
       "    }\n",
       "</style>\n",
       "<table border=\"1\" class=\"dataframe\">\n",
       "  <thead>\n",
       "    <tr style=\"text-align: right;\">\n",
       "      <th></th>\n",
       "      <th>user_id</th>\n",
       "      <th>paid_super_sent</th>\n",
       "    </tr>\n",
       "  </thead>\n",
       "  <tbody>\n",
       "    <tr>\n",
       "      <th>0</th>\n",
       "      <td>1000010</td>\n",
       "      <td>5</td>\n",
       "    </tr>\n",
       "    <tr>\n",
       "      <th>1</th>\n",
       "      <td>1000011</td>\n",
       "      <td>1</td>\n",
       "    </tr>\n",
       "    <tr>\n",
       "      <th>2</th>\n",
       "      <td>1000022</td>\n",
       "      <td>2</td>\n",
       "    </tr>\n",
       "    <tr>\n",
       "      <th>3</th>\n",
       "      <td>1000026</td>\n",
       "      <td>1</td>\n",
       "    </tr>\n",
       "    <tr>\n",
       "      <th>4</th>\n",
       "      <td>1000037</td>\n",
       "      <td>2</td>\n",
       "    </tr>\n",
       "    <tr>\n",
       "      <th>...</th>\n",
       "      <td>...</td>\n",
       "      <td>...</td>\n",
       "    </tr>\n",
       "    <tr>\n",
       "      <th>40024</th>\n",
       "      <td>1284374</td>\n",
       "      <td>2</td>\n",
       "    </tr>\n",
       "    <tr>\n",
       "      <th>40025</th>\n",
       "      <td>1284385</td>\n",
       "      <td>2</td>\n",
       "    </tr>\n",
       "    <tr>\n",
       "      <th>40026</th>\n",
       "      <td>1284399</td>\n",
       "      <td>3</td>\n",
       "    </tr>\n",
       "    <tr>\n",
       "      <th>40027</th>\n",
       "      <td>1284411</td>\n",
       "      <td>2</td>\n",
       "    </tr>\n",
       "    <tr>\n",
       "      <th>40028</th>\n",
       "      <td>1284421</td>\n",
       "      <td>3</td>\n",
       "    </tr>\n",
       "  </tbody>\n",
       "</table>\n",
       "<p>40029 rows × 2 columns</p>\n",
       "</div>"
      ],
      "text/plain": [
       "       user_id  paid_super_sent\n",
       "0      1000010                5\n",
       "1      1000011                1\n",
       "2      1000022                2\n",
       "3      1000026                1\n",
       "4      1000037                2\n",
       "...        ...              ...\n",
       "40024  1284374                2\n",
       "40025  1284385                2\n",
       "40026  1284399                3\n",
       "40027  1284411                2\n",
       "40028  1284421                3\n",
       "\n",
       "[40029 rows x 2 columns]"
      ]
     },
     "execution_count": 14,
     "metadata": {},
     "output_type": "execute_result"
    }
   ],
   "source": [
    "super_sent_users = super_sent_by_user.copy().rename(columns={\"super_sent\": \"paid_super_sent\"})\n",
    "super_sent_users[\"paid_super_sent\"] = super_sent_users[\"paid_super_sent\"] - 1\n",
    "paid_super_sent_users = super_sent_users[super_sent_users.paid_super_sent > 0].reset_index()\n",
    "paid_super_sent_users"
   ]
  },
  {
   "cell_type": "code",
   "execution_count": 15,
   "id": "a95faa67",
   "metadata": {},
   "outputs": [],
   "source": [
    "active_users = registration.merge(free_tree, how=\"inner\", left_on=\"user_id\", right_on=\"user_id\")\n",
    "active_users = active_users.merge(paid_super_sent_users, how=\"left\", left_on=\"user_id\", right_on=\"user_id\")\n",
    "active_free_users = active_users[active_users.paid_super_sent.isna()].groupby(\"user_id\").count()[[\"paid_super_sent\"]].reset_index()"
   ]
  },
  {
   "cell_type": "code",
   "execution_count": 16,
   "id": "a82d3774",
   "metadata": {},
   "outputs": [],
   "source": [
    "reg_free_users = registration.merge(active_free_users, how=\"inner\", left_on=\"user_id\", right_on=\"user_id\")\n",
    "free_users = reg_free_users.groupby(\"acquired_from\")[[\"user_id\"]].nunique()"
   ]
  },
  {
   "cell_type": "code",
   "execution_count": 17,
   "id": "cc4845ad",
   "metadata": {},
   "outputs": [
    {
     "data": {
      "text/html": [
       "<div>\n",
       "<style scoped>\n",
       "    .dataframe tbody tr th:only-of-type {\n",
       "        vertical-align: middle;\n",
       "    }\n",
       "\n",
       "    .dataframe tbody tr th {\n",
       "        vertical-align: top;\n",
       "    }\n",
       "\n",
       "    .dataframe thead th {\n",
       "        text-align: right;\n",
       "    }\n",
       "</style>\n",
       "<table border=\"1\" class=\"dataframe\">\n",
       "  <thead>\n",
       "    <tr style=\"text-align: right;\">\n",
       "      <th></th>\n",
       "      <th>acquired_from</th>\n",
       "      <th>user_id</th>\n",
       "    </tr>\n",
       "  </thead>\n",
       "  <tbody>\n",
       "    <tr>\n",
       "      <th>0</th>\n",
       "      <td>article</td>\n",
       "      <td>37991</td>\n",
       "    </tr>\n",
       "    <tr>\n",
       "      <th>1</th>\n",
       "      <td>google</td>\n",
       "      <td>57983</td>\n",
       "    </tr>\n",
       "    <tr>\n",
       "      <th>2</th>\n",
       "      <td>invite_a_friend</td>\n",
       "      <td>169622</td>\n",
       "    </tr>\n",
       "    <tr>\n",
       "      <th>3</th>\n",
       "      <td>paid</td>\n",
       "      <td>18826</td>\n",
       "    </tr>\n",
       "  </tbody>\n",
       "</table>\n",
       "</div>"
      ],
      "text/plain": [
       "     acquired_from  user_id\n",
       "0          article    37991\n",
       "1           google    57983\n",
       "2  invite_a_friend   169622\n",
       "3             paid    18826"
      ]
     },
     "execution_count": 17,
     "metadata": {},
     "output_type": "execute_result"
    }
   ],
   "source": [
    "reg_users = reg_users.reset_index()\n",
    "reg_users"
   ]
  },
  {
   "cell_type": "code",
   "execution_count": 18,
   "id": "a9734705",
   "metadata": {
    "scrolled": false
   },
   "outputs": [
    {
     "data": {
      "text/html": [
       "<div>\n",
       "<style scoped>\n",
       "    .dataframe tbody tr th:only-of-type {\n",
       "        vertical-align: middle;\n",
       "    }\n",
       "\n",
       "    .dataframe tbody tr th {\n",
       "        vertical-align: top;\n",
       "    }\n",
       "\n",
       "    .dataframe thead th {\n",
       "        text-align: right;\n",
       "    }\n",
       "</style>\n",
       "<table border=\"1\" class=\"dataframe\">\n",
       "  <thead>\n",
       "    <tr style=\"text-align: right;\">\n",
       "      <th></th>\n",
       "      <th>acquired_from</th>\n",
       "      <th>user_id</th>\n",
       "    </tr>\n",
       "  </thead>\n",
       "  <tbody>\n",
       "    <tr>\n",
       "      <th>0</th>\n",
       "      <td>article</td>\n",
       "      <td>25687</td>\n",
       "    </tr>\n",
       "    <tr>\n",
       "      <th>1</th>\n",
       "      <td>google</td>\n",
       "      <td>31517</td>\n",
       "    </tr>\n",
       "    <tr>\n",
       "      <th>2</th>\n",
       "      <td>invite_a_friend</td>\n",
       "      <td>113677</td>\n",
       "    </tr>\n",
       "    <tr>\n",
       "      <th>3</th>\n",
       "      <td>paid</td>\n",
       "      <td>11695</td>\n",
       "    </tr>\n",
       "  </tbody>\n",
       "</table>\n",
       "</div>"
      ],
      "text/plain": [
       "     acquired_from  user_id\n",
       "0          article    25687\n",
       "1           google    31517\n",
       "2  invite_a_friend   113677\n",
       "3             paid    11695"
      ]
     },
     "execution_count": 18,
     "metadata": {},
     "output_type": "execute_result"
    }
   ],
   "source": [
    "free_users = free_users.reset_index()\n",
    "free_users"
   ]
  },
  {
   "cell_type": "code",
   "execution_count": 19,
   "id": "ed0f6a79",
   "metadata": {
    "scrolled": true
   },
   "outputs": [
    {
     "data": {
      "text/html": [
       "<div>\n",
       "<style scoped>\n",
       "    .dataframe tbody tr th:only-of-type {\n",
       "        vertical-align: middle;\n",
       "    }\n",
       "\n",
       "    .dataframe tbody tr th {\n",
       "        vertical-align: top;\n",
       "    }\n",
       "\n",
       "    .dataframe thead th {\n",
       "        text-align: right;\n",
       "    }\n",
       "</style>\n",
       "<table border=\"1\" class=\"dataframe\">\n",
       "  <thead>\n",
       "    <tr style=\"text-align: right;\">\n",
       "      <th></th>\n",
       "      <th>acquired_from</th>\n",
       "      <th>user_id</th>\n",
       "    </tr>\n",
       "  </thead>\n",
       "  <tbody>\n",
       "    <tr>\n",
       "      <th>0</th>\n",
       "      <td>article</td>\n",
       "      <td>3377</td>\n",
       "    </tr>\n",
       "    <tr>\n",
       "      <th>1</th>\n",
       "      <td>google</td>\n",
       "      <td>7436</td>\n",
       "    </tr>\n",
       "    <tr>\n",
       "      <th>2</th>\n",
       "      <td>invite_a_friend</td>\n",
       "      <td>23788</td>\n",
       "    </tr>\n",
       "    <tr>\n",
       "      <th>3</th>\n",
       "      <td>paid</td>\n",
       "      <td>6</td>\n",
       "    </tr>\n",
       "  </tbody>\n",
       "</table>\n",
       "</div>"
      ],
      "text/plain": [
       "     acquired_from  user_id\n",
       "0          article     3377\n",
       "1           google     7436\n",
       "2  invite_a_friend    23788\n",
       "3             paid        6"
      ]
     },
     "execution_count": 19,
     "metadata": {},
     "output_type": "execute_result"
    }
   ],
   "source": [
    "reg_super_free = registration.merge(free_super_sent_users, how=\"inner\", left_on=\"user_id\", right_on=\"user_id\")\n",
    "free_super_users = reg_super_free.groupby(\"acquired_from\")[[\"user_id\"]].nunique().reset_index()\n",
    "free_super_users"
   ]
  },
  {
   "cell_type": "code",
   "execution_count": 20,
   "id": "354f8196",
   "metadata": {},
   "outputs": [
    {
     "data": {
      "text/html": [
       "<div>\n",
       "<style scoped>\n",
       "    .dataframe tbody tr th:only-of-type {\n",
       "        vertical-align: middle;\n",
       "    }\n",
       "\n",
       "    .dataframe tbody tr th {\n",
       "        vertical-align: top;\n",
       "    }\n",
       "\n",
       "    .dataframe thead th {\n",
       "        text-align: right;\n",
       "    }\n",
       "</style>\n",
       "<table border=\"1\" class=\"dataframe\">\n",
       "  <thead>\n",
       "    <tr style=\"text-align: right;\">\n",
       "      <th></th>\n",
       "      <th>acquired_from</th>\n",
       "      <th>user_id</th>\n",
       "    </tr>\n",
       "  </thead>\n",
       "  <tbody>\n",
       "    <tr>\n",
       "      <th>0</th>\n",
       "      <td>article</td>\n",
       "      <td>872</td>\n",
       "    </tr>\n",
       "    <tr>\n",
       "      <th>1</th>\n",
       "      <td>google</td>\n",
       "      <td>6369</td>\n",
       "    </tr>\n",
       "    <tr>\n",
       "      <th>2</th>\n",
       "      <td>invite_a_friend</td>\n",
       "      <td>32788</td>\n",
       "    </tr>\n",
       "  </tbody>\n",
       "</table>\n",
       "</div>"
      ],
      "text/plain": [
       "     acquired_from  user_id\n",
       "0          article      872\n",
       "1           google     6369\n",
       "2  invite_a_friend    32788"
      ]
     },
     "execution_count": 20,
     "metadata": {},
     "output_type": "execute_result"
    }
   ],
   "source": [
    "reg_paid = registration.merge(paid_super_sent_users, how=\"inner\", left_on=\"user_id\", right_on=\"user_id\")\n",
    "paid_users = reg_paid.groupby(\"acquired_from\")[[\"user_id\"]].nunique()\n",
    "paid_users = paid_users.reset_index()\n",
    "paid_users"
   ]
  },
  {
   "cell_type": "code",
   "execution_count": 21,
   "id": "42849339",
   "metadata": {
    "scrolled": true
   },
   "outputs": [
    {
     "data": {
      "text/html": [
       "<div>\n",
       "<style scoped>\n",
       "    .dataframe tbody tr th:only-of-type {\n",
       "        vertical-align: middle;\n",
       "    }\n",
       "\n",
       "    .dataframe tbody tr th {\n",
       "        vertical-align: top;\n",
       "    }\n",
       "\n",
       "    .dataframe thead th {\n",
       "        text-align: right;\n",
       "    }\n",
       "</style>\n",
       "<table border=\"1\" class=\"dataframe\">\n",
       "  <thead>\n",
       "    <tr style=\"text-align: right;\">\n",
       "      <th></th>\n",
       "      <th>acquired_from</th>\n",
       "      <th>user_id</th>\n",
       "      <th>percentage</th>\n",
       "    </tr>\n",
       "  </thead>\n",
       "  <tbody>\n",
       "    <tr>\n",
       "      <th>0</th>\n",
       "      <td>article</td>\n",
       "      <td>872</td>\n",
       "      <td>2.18</td>\n",
       "    </tr>\n",
       "    <tr>\n",
       "      <th>1</th>\n",
       "      <td>google</td>\n",
       "      <td>6369</td>\n",
       "      <td>15.91</td>\n",
       "    </tr>\n",
       "    <tr>\n",
       "      <th>2</th>\n",
       "      <td>invite_a_friend</td>\n",
       "      <td>32788</td>\n",
       "      <td>81.91</td>\n",
       "    </tr>\n",
       "  </tbody>\n",
       "</table>\n",
       "</div>"
      ],
      "text/plain": [
       "     acquired_from  user_id  percentage\n",
       "0          article      872        2.18\n",
       "1           google     6369       15.91\n",
       "2  invite_a_friend    32788       81.91"
      ]
     },
     "execution_count": 21,
     "metadata": {},
     "output_type": "execute_result"
    }
   ],
   "source": [
    "total_reg_users = reg_users[\"user_id\"].sum()\n",
    "total_free_users = free_users[\"user_id\"].sum()\n",
    "total_paid_users = paid_users[\"user_id\"].sum()\n",
    "reg_users[\"percentage\"] = ((reg_users[\"user_id\"] / total_reg_users) * 100).round(2)\n",
    "free_users[\"percentage\"] = ((free_users[\"user_id\"] / total_free_users) * 100).round(2)\n",
    "paid_users[\"percentage\"] = ((paid_users[\"user_id\"] / total_paid_users) * 100).round(2)\n",
    "paid_users"
   ]
  },
  {
   "cell_type": "code",
   "execution_count": 91,
   "id": "c24ee1fd",
   "metadata": {
    "scrolled": false
   },
   "outputs": [
    {
     "data": {
      "image/png": "[encoded data removed]",
      "text/plain": [
       "<Figure size 640x480 with 1 Axes>"
      ]
     },
     "metadata": {},
     "output_type": "display_data"
    }
   ],
   "source": [
    "reg_users = reg_users.reset_index()\n",
    "x = reg_users.acquired_from\n",
    "y = reg_users.percentage\n",
    "\n",
    "plt.bar(x,y, label=\"Percentage\", color=\"orange\")\n",
    "plt.xlabel(\"User acquired from\")\n",
    "plt.ylabel(\"Percentage of Unique users (%)\")\n",
    "plt.title(\"Percentage of Registered users comes from:\")\n",
    "plt.legend()\n",
    "plt.show()"
   ]
  },
  {
   "cell_type": "code",
   "execution_count": 136,
   "id": "51906410",
   "metadata": {},
   "outputs": [
    {
     "data": {
      "image/png": "[encoded data removed]",
      "text/plain": [
       "<Figure size 640x480 with 1 Axes>"
      ]
     },
     "metadata": {},
     "output_type": "display_data"
    }
   ],
   "source": [
    "x = free_users.acquired_from\n",
    "y = free_users.percentage\n",
    "\n",
    "plt.bar(x,y, label=\"Percentage\", color=\"orange\")\n",
    "plt.xlabel(\"User acquired from\")\n",
    "plt.ylabel(\"Percentage of Unique users (%)\")\n",
    "plt.title(\"Percentage of Free users comes from:\")\n",
    "plt.legend()\n",
    "plt.show()"
   ]
  },
  {
   "cell_type": "code",
   "execution_count": 92,
   "id": "771bb901",
   "metadata": {},
   "outputs": [
    {
     "data": {
      "image/png": "[encoded data removed]",
      "text/plain": [
       "<Figure size 640x480 with 1 Axes>"
      ]
     },
     "metadata": {},
     "output_type": "display_data"
    }
   ],
   "source": [
    "x = paid_users.acquired_from\n",
    "y = paid_users.percentage\n",
    "\n",
    "plt.bar(x,y, label=\"Percentage\", color=\"orange\")\n",
    "plt.xlabel(\"User acquired from\")\n",
    "plt.ylabel(\"Percentage of Unique users (%)\")\n",
    "plt.title(\"Percentage of Paid users comes from:\")\n",
    "plt.legend()\n",
    "plt.show()"
   ]
  },
  {
   "cell_type": "code",
   "execution_count": 93,
   "id": "eeb8c7df",
   "metadata": {},
   "outputs": [],
   "source": [
    "x = paid_users.acquired_from\n",
    "y = paid_users.user_id\n",
    "\n",
    "x2 = free_users.acquired_from\n",
    "y2 = free_users.user_id\n",
    "\n",
    "x3 = reg_users.acquired_from\n",
    "y3 = reg_users.user_id"
   ]
  },
  {
   "cell_type": "code",
   "execution_count": 94,
   "id": "35ce01e3",
   "metadata": {},
   "outputs": [
    {
     "data": {
      "image/png": "[encoded data removed]",
      "text/plain": [
       "<Figure size 640x480 with 1 Axes>"
      ]
     },
     "metadata": {},
     "output_type": "display_data"
    }
   ],
   "source": [
    "plt.bar(x3, y3, label=\"Registered Users\", color=\"yellow\")\n",
    "plt.bar(x2, y2, label=\"Free Users\", color=\"orange\")\n",
    "plt.bar(x,y, label=\"Paid Users\", color=\"red\")\n",
    "plt.xlabel(\"User acquired from\")\n",
    "plt.ylabel(\"Unique users\")\n",
    "\n",
    "plt.title(\"Paid users\\n\"\n",
    "            \"How did they find us?\")\n",
    "plt.legend()\n",
    "plt.show()"
   ]
  },
  {
   "cell_type": "code",
   "execution_count": 23,
   "id": "c8687212",
   "metadata": {},
   "outputs": [
    {
     "data": {
      "text/html": [
       "<div>\n",
       "<style scoped>\n",
       "    .dataframe tbody tr th:only-of-type {\n",
       "        vertical-align: middle;\n",
       "    }\n",
       "\n",
       "    .dataframe tbody tr th {\n",
       "        vertical-align: top;\n",
       "    }\n",
       "\n",
       "    .dataframe thead th {\n",
       "        text-align: right;\n",
       "    }\n",
       "</style>\n",
       "<table border=\"1\" class=\"dataframe\">\n",
       "  <thead>\n",
       "    <tr style=\"text-align: right;\">\n",
       "      <th></th>\n",
       "      <th>acquired_from</th>\n",
       "      <th>revenue</th>\n",
       "    </tr>\n",
       "  </thead>\n",
       "  <tbody>\n",
       "    <tr>\n",
       "      <th>2</th>\n",
       "      <td>invite_a_friend</td>\n",
       "      <td>89129</td>\n",
       "    </tr>\n",
       "  </tbody>\n",
       "</table>\n",
       "</div>"
      ],
      "text/plain": [
       "     acquired_from  revenue\n",
       "2  invite_a_friend    89129"
      ]
     },
     "execution_count": 23,
     "metadata": {},
     "output_type": "execute_result"
    }
   ],
   "source": [
    "paid_users = registration.merge(paid_super_sent_users, how=\"inner\", left_on=\"user_id\", right_on=\"user_id\")\n",
    "paid_source = paid_users.groupby(\"acquired_from\")[[\"paid_super_sent\"]].sum(numeric_only=\"True\").reset_index()\n",
    "paid_invite = paid_source[paid_source.acquired_from == \"invite_a_friend\"].rename(columns={\"paid_super_sent\": \"revenue\"})\n",
    "paid_invite"
   ]
  },
  {
   "cell_type": "code",
   "execution_count": 28,
   "id": "7537917c",
   "metadata": {},
   "outputs": [
    {
     "name": "stdout",
     "output_type": "stream",
     "text": [
      "Total Revenue from invite_a_friend: 89,129$\n"
     ]
    }
   ],
   "source": [
    "rev = paid_invite[\"revenue\"].item()\n",
    "print(f\"Total Revenue from invite_a_friend: {rev:,}$\")"
   ]
  },
  {
   "cell_type": "code",
   "execution_count": null,
   "id": "6e024540",
   "metadata": {},
   "outputs": [],
   "source": []
  }
 ],
 "metadata": {
  "kernelspec": {
   "display_name": "Python 3 (ipykernel)",
   "language": "python",
   "name": "python3"
  },
  "language_info": {
   "codemirror_mode": {
    "name": "ipython",
    "version": 3
   },
   "file_extension": ".py",
   "mimetype": "text/x-python",
   "name": "python",
   "nbconvert_exporter": "python",
   "pygments_lexer": "ipython3",
   "version": "3.11.5"
  }
 },
 "nbformat": 4,
 "nbformat_minor": 5
}
